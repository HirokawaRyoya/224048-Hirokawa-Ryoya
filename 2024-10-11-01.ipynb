{
  "nbformat": 4,
  "nbformat_minor": 0,
  "metadata": {
    "colab": {
      "provenance": []
    },
    "kernelspec": {
      "name": "python3",
      "display_name": "Python 3"
    },
    "language_info": {
      "name": "python"
    }
  },
  "cells": [
    {
      "cell_type": "code",
      "execution_count": null,
      "metadata": {
        "id": "Fx8FI1kmHp-q"
      },
      "outputs": [],
      "source": []
    },
    {
      "cell_type": "code",
      "source": [
        "eigonoten = input(\"英語の点を入力してください\")\n",
        "eigonoten = int(eigonoten)\n",
        "\n",
        "if eigonoten >= 90:\n",
        "    print(\"S\")\n",
        "\n",
        "elif eigonoten >= 80:\n",
        "    print(\"A\")\n",
        "\n",
        "elif eigonoten >= 70:\n",
        "    print(\"B\")\n",
        "\n",
        "elif eigonoten >= 60:\n",
        "    print(\"C\")\n",
        "\n",
        "else:\n",
        "    print(\"不合格\")\n",
        "\n"
      ],
      "metadata": {
        "colab": {
          "base_uri": "https://localhost:8080/"
        },
        "id": "x8vhfe0a40l2",
        "outputId": "f9bb2904-6ba5-4893-d0e6-3cf427afe16a"
      },
      "execution_count": 1,
      "outputs": [
        {
          "output_type": "stream",
          "name": "stdout",
          "text": [
            "英語の点を入力してください65\n",
            "C\n"
          ]
        }
      ]
    }
  ]
}