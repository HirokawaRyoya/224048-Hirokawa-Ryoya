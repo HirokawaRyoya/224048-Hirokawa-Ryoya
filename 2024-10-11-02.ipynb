{
  "nbformat": 4,
  "nbformat_minor": 0,
  "metadata": {
    "colab": {
      "provenance": [],
      "authorship_tag": "ABX9TyO6v28BAFoSZyEZDTv7AG9E",
      "include_colab_link": true
    },
    "kernelspec": {
      "name": "python3",
      "display_name": "Python 3"
    },
    "language_info": {
      "name": "python"
    }
  },
  "cells": [
    {
      "cell_type": "markdown",
      "metadata": {
        "id": "view-in-github",
        "colab_type": "text"
      },
      "source": [
        "<a href=\"https://colab.research.google.com/github/HirokawaRyoya/224048-Hirokawa-Ryoya/blob/main/2024-10-11-02.ipynb\" target=\"_parent\"><img src=\"https://colab.research.google.com/assets/colab-badge.svg\" alt=\"Open In Colab\"/></a>"
      ]
    },
    {
      "cell_type": "code",
      "source": [
        "youbi = input(\"日:1、月:2、火:3、水:4、木:5、金:6、土:7を半角で入力してください。\")\n",
        "\n",
        "youbi = int(youbi)\n",
        "\n",
        "if youbi == 1:\n",
        "    print(\"休診です\")\n",
        "\n",
        "elif youbi == 2:\n",
        "    print(\"終日診察可能です。\")\n",
        "\n",
        "elif youbi == 3:\n",
        "    print(\"午後、夜間は診察可能です。\")\n",
        "\n",
        "elif youbi == 4:\n",
        "    print(\"午前、午後は診察可能です。\")\n",
        "\n",
        "elif youbi == 5:\n",
        "    print(\"終日診察可能です。\")\n",
        "\n",
        "elif youbi == 6:\n",
        "    print(\"午後、夜間は診察可能です。\")\n",
        "\n",
        "elif youbi == 7:\n",
        "    print(\"午前のみ診察可能です。\")\n",
        "\n",
        "else:\n",
        "    print(\"エラーです。入力しなおしてください。\")\n",
        "\n",
        "\n"
      ],
      "metadata": {
        "colab": {
          "base_uri": "https://localhost:8080/"
        },
        "outputId": "282c7bcc-13b8-4a71-87b3-66459485e1e5",
        "id": "4soTbSvBNF4J"
      },
      "execution_count": 51,
      "outputs": [
        {
          "output_type": "stream",
          "name": "stdout",
          "text": [
            "日:1、月:2、火:3、水:4、木:5、金:6、土:7を半角で入力してください。6\n",
            "午後、夜間は診察可能です。\n"
          ]
        }
      ]
    }
  ]
}