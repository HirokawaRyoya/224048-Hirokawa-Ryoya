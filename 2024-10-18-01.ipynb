{
  "nbformat": 4,
  "nbformat_minor": 0,
  "metadata": {
    "colab": {
      "provenance": [],
      "authorship_tag": "ABX9TyMd9tguYAtIT2WYMf0SVEgm",
      "include_colab_link": true
    },
    "kernelspec": {
      "name": "python3",
      "display_name": "Python 3"
    },
    "language_info": {
      "name": "python"
    }
  },
  "cells": [
    {
      "cell_type": "markdown",
      "metadata": {
        "id": "view-in-github",
        "colab_type": "text"
      },
      "source": [
        "<a href=\"https://colab.research.google.com/github/HirokawaRyoya/224048-Hirokawa-Ryoya/blob/main/2024-10-18-01.ipynb\" target=\"_parent\"><img src=\"https://colab.research.google.com/assets/colab-badge.svg\" alt=\"Open In Colab\"/></a>"
      ]
    },
    {
      "cell_type": "code",
      "execution_count": 33,
      "metadata": {
        "colab": {
          "base_uri": "https://localhost:8080/"
        },
        "id": "DVlDezcC8_uS",
        "outputId": "95d7d632-abea-43aa-dca7-61f9772270fc"
      },
      "outputs": [
        {
          "output_type": "stream",
          "name": "stdout",
          "text": [
            "駅名を入力してください新宿\n",
            "新宿駅は6位から10位には入っていません\n"
          ]
        }
      ],
      "source": [
        "ekimei = {'新橋':6,'秋葉原':7,'高田馬場':8,'上野':10,'大崎':198,}\n",
        "\n",
        "eki = input(\"駅名を入力してください\")\n",
        "if eki in ekimei:\n",
        "    print(eki+\"駅は6位から10位に入っています\")\n",
        "else :\n",
        "    print(eki+\"駅は6位から10位には入っていません\")\n"
      ]
    }
  ]
}