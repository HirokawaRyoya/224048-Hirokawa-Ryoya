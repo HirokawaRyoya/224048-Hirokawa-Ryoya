{
  "nbformat": 4,
  "nbformat_minor": 0,
  "metadata": {
    "colab": {
      "provenance": [],
      "authorship_tag": "ABX9TyMQig4MkiPw6YJKBCFZ9rUK",
      "include_colab_link": true
    },
    "kernelspec": {
      "name": "python3",
      "display_name": "Python 3"
    },
    "language_info": {
      "name": "python"
    }
  },
  "cells": [
    {
      "cell_type": "markdown",
      "metadata": {
        "id": "view-in-github",
        "colab_type": "text"
      },
      "source": [
        "<a href=\"https://colab.research.google.com/github/HirokawaRyoya/224048-Hirokawa-Ryoya/blob/main/2024-10-04-03.ipynb\" target=\"_parent\"><img src=\"https://colab.research.google.com/assets/colab-badge.svg\" alt=\"Open In Colab\"/></a>"
      ]
    },
    {
      "cell_type": "code",
      "execution_count": 3,
      "metadata": {
        "colab": {
          "base_uri": "https://localhost:8080/"
        },
        "id": "U7dXycoTttHn",
        "outputId": "7ea850cf-cda5-4180-8bbe-7d5566d88343"
      },
      "outputs": [
        {
          "output_type": "stream",
          "name": "stdout",
          "text": [
            "実数を3つ入力してください\n",
            "1つ目2\n",
            "2つ目2\n",
            "3つ目2\n",
            "6.0\n",
            "2.0\n"
          ]
        }
      ],
      "source": [
        "print(\"実数を3つ入力してください\")\n",
        "x1=input(\"1つ目\")\n",
        "x2=input(\"2つ目\")\n",
        "x3=input(\"3つ目\")\n",
        "x1=float(x1)\n",
        "x2=float(x2)\n",
        "x3=float(x3)\n",
        "print(x1+x2+x3)\n",
        "print((x1+x2+x3)/3)"
      ]
    }
  ]
}