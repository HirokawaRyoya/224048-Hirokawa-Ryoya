{
  "nbformat": 4,
  "nbformat_minor": 0,
  "metadata": {
    "colab": {
      "provenance": [],
      "authorship_tag": "ABX9TyMw4e2xNFJ7kYMDojzvfHaH",
      "include_colab_link": true
    },
    "kernelspec": {
      "name": "python3",
      "display_name": "Python 3"
    },
    "language_info": {
      "name": "python"
    }
  },
  "cells": [
    {
      "cell_type": "markdown",
      "metadata": {
        "id": "view-in-github",
        "colab_type": "text"
      },
      "source": [
        "<a href=\"https://colab.research.google.com/github/HirokawaRyoya/224048-Hirokawa-Ryoya/blob/main/2024-10-11-04.ipynb\" target=\"_parent\"><img src=\"https://colab.research.google.com/assets/colab-badge.svg\" alt=\"Open In Colab\"/></a>"
      ]
    },
    {
      "cell_type": "code",
      "source": [
        "\n",
        "\n"
      ],
      "metadata": {
        "id": "4soTbSvBNF4J"
      },
      "execution_count": 51,
      "outputs": []
    },
    {
      "cell_type": "code",
      "source": [
        "tuki = input(\"月を入力すれば季節を答えます。\")\n",
        "\n",
        "tuki = int(tuki)\n",
        "\n",
        "if tuki == 3:\n",
        "    print(\"春です\")\n",
        "\n",
        "elif tuki == 4:\n",
        "    print(\"春です\")\n",
        "\n",
        "elif tuki == 5:\n",
        "    print(\"春です\")\n",
        "\n",
        "elif tuki == 6:\n",
        "    print(\"夏です\")\n",
        "\n",
        "elif tuki == 7:\n",
        "    print(\"夏です\")\n",
        "\n",
        "elif tuki == 8:\n",
        "    print(\"夏です\")\n",
        "\n",
        "elif tuki == 9:\n",
        "    print(\"秋です\")\n",
        "\n",
        "elif tuki == 10:\n",
        "    print(\"秋です\")\n",
        "\n",
        "elif tuki == 11:\n",
        "    print(\"秋です\")\n",
        "\n",
        "elif tuki == 12:\n",
        "    print(\"冬です\")\n",
        "\n",
        "elif tuki == 1:\n",
        "    print(\"冬です\")\n",
        "\n",
        "elif tuki == 2:\n",
        "    print(\"冬です\")\n",
        "\n",
        "\n",
        "\n",
        "\n"
      ],
      "metadata": {
        "colab": {
          "base_uri": "https://localhost:8080/"
        },
        "outputId": "180ae1ae-5544-45ac-ff9f-cbc0d9c55dfd",
        "id": "-m9gqtgAc6Wi"
      },
      "execution_count": 54,
      "outputs": [
        {
          "output_type": "stream",
          "name": "stdout",
          "text": [
            "月を入力すれば季節を答えます。12\n",
            "冬です\n"
          ]
        }
      ]
    }
  ]
}