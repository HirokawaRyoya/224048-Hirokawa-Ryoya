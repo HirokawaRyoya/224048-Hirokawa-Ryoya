{
  "nbformat": 4,
  "nbformat_minor": 0,
  "metadata": {
    "colab": {
      "provenance": [],
      "authorship_tag": "ABX9TyPbgW76YuR1HBwPULRTFn32",
      "include_colab_link": true
    },
    "kernelspec": {
      "name": "python3",
      "display_name": "Python 3"
    },
    "language_info": {
      "name": "python"
    }
  },
  "cells": [
    {
      "cell_type": "markdown",
      "metadata": {
        "id": "view-in-github",
        "colab_type": "text"
      },
      "source": [
        "<a href=\"https://colab.research.google.com/github/HirokawaRyoya/224048-Hirokawa-Ryoya/blob/main/2024-10-18-02.ipynb\" target=\"_parent\"><img src=\"https://colab.research.google.com/assets/colab-badge.svg\" alt=\"Open In Colab\"/></a>"
      ]
    },
    {
      "cell_type": "code",
      "execution_count": 16,
      "metadata": {
        "colab": {
          "base_uri": "https://localhost:8080/"
        },
        "id": "DVlDezcC8_uS",
        "outputId": "ce4595fe-8277-44a6-f81c-c1e31ec4cd2f"
      },
      "outputs": [
        {
          "output_type": "stream",
          "name": "stdout",
          "text": [
            "駅名を入力してください新橋\n",
            "正解です。新橋駅の乗降客数は山手線内で6位です。\n"
          ]
        }
      ],
      "source": [
        "ekimei = {'新橋':6,'秋葉原':7,'高田馬場':8,'上野':9,'大崎':10,}\n",
        "\n",
        "eki = input(\"駅名を入力してください\")\n",
        "\n",
        "if eki in \"新橋\":\n",
        "    print(\"正解です。新橋駅の乗降客数は山手線内で6位です。\")\n",
        "\n",
        "elif eki in \"秋葉原\":\n",
        "    print(\"正解です。秋葉原駅の乗降客数は山手線内で7位です。\")\n",
        "\n",
        "elif eki in \"高田馬場\":\n",
        "    print(\"正解です。高田馬場駅の乗降客数は山手線内で8位です。\")\n",
        "\n",
        "elif eki in \"上野\":\n",
        "    print(\"正解です。上野駅の乗降客数は山手線内で9位です。\")\n",
        "\n",
        "elif eki in \"大崎\":\n",
        "    print(\"正解です。大崎駅の乗降客数は山手線内で10位です。\")\n",
        "\n",
        "else :\n",
        "    print(eki+\"駅は6位から10位には入っていません、不正解です。\")\n"
      ]
    }
  ]
}