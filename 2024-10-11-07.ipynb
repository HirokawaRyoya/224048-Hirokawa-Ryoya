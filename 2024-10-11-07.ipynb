{
  "nbformat": 4,
  "nbformat_minor": 0,
  "metadata": {
    "colab": {
      "provenance": [],
      "authorship_tag": "ABX9TyNaZ0kKlnzUG8sx9R8fB5j9",
      "include_colab_link": true
    },
    "kernelspec": {
      "name": "python3",
      "display_name": "Python 3"
    },
    "language_info": {
      "name": "python"
    }
  },
  "cells": [
    {
      "cell_type": "markdown",
      "metadata": {
        "id": "view-in-github",
        "colab_type": "text"
      },
      "source": [
        "<a href=\"https://colab.research.google.com/github/HirokawaRyoya/224048-Hirokawa-Ryoya/blob/main/2024-10-11-07.ipynb\" target=\"_parent\"><img src=\"https://colab.research.google.com/assets/colab-badge.svg\" alt=\"Open In Colab\"/></a>"
      ]
    },
    {
      "cell_type": "code",
      "execution_count": null,
      "metadata": {
        "id": "buqyUOus1xYz"
      },
      "outputs": [],
      "source": [
        "num1 = int(input(\"1つめの数字を入力してください。\"))\n",
        "num2 = int(input(\"2つめの数字を入力してください。\"))\n",
        "num3 = int(input(\"3つめの数字を入力してください。\"))\n",
        "if num1 == num2 == num3:\n",
        "    print(\"入力した3つの数字は同じです\")\n",
        "elif num1 == num2 or num1 == num3 or num2 == num3:\n",
        "    print(\"入力した3つのうち2つが同じです\")\n",
        "else:\n",
        "    print(\"入力した3つの数字はすべて異なります\")"
      ]
    }
  ]
}