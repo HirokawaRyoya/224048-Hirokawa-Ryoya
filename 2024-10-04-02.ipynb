{
  "nbformat": 4,
  "nbformat_minor": 0,
  "metadata": {
    "colab": {
      "provenance": [],
      "authorship_tag": "ABX9TyMrbr4piI5DwBFPZVVNVgcY",
      "include_colab_link": true
    },
    "kernelspec": {
      "name": "python3",
      "display_name": "Python 3"
    },
    "language_info": {
      "name": "python"
    }
  },
  "cells": [
    {
      "cell_type": "markdown",
      "metadata": {
        "id": "view-in-github",
        "colab_type": "text"
      },
      "source": [
        "<a href=\"https://colab.research.google.com/github/HirokawaRyoya/224048-Hirokawa-Ryoya/blob/main/2024-10-04-02.ipynb\" target=\"_parent\"><img src=\"https://colab.research.google.com/assets/colab-badge.svg\" alt=\"Open In Colab\"/></a>"
      ]
    },
    {
      "cell_type": "code",
      "execution_count": 1,
      "metadata": {
        "colab": {
          "base_uri": "https://localhost:8080/"
        },
        "id": "qSvrOCTQtHEO",
        "outputId": "9fae53f8-ff7c-41a1-c637-6ceaf490d928"
      },
      "outputs": [
        {
          "output_type": "stream",
          "name": "stdout",
          "text": [
            "1つ目の数字を入力10\n",
            "2つ目の数字を入力10\n",
            "20\n",
            "0\n",
            "100\n",
            "1.0\n"
          ]
        }
      ],
      "source": [
        "x1=input(\"1つ目の数字を入力\")\n",
        "x1=int(x1)\n",
        "x2=input(\"2つ目の数字を入力\")\n",
        "x2=int(x2)\n",
        "print(x1+x2)\n",
        "print(x1-x2)\n",
        "print(x1*x2)\n",
        "print(x1/x2)"
      ]
    }
  ]
}